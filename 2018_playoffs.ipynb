{
 "cells": [
  {
   "cell_type": "markdown",
   "metadata": {},
   "source": [
    "# Objective:\n",
    "\n"
   ]
  },
  {
   "cell_type": "code",
   "execution_count": 1,
   "metadata": {},
   "outputs": [],
   "source": [
    "# Import libraries\n",
    "\n",
    "import pandas as pd\n",
    "import numpy as np\n",
    "import matplotlib.pyplot as plt\n",
    "import matplotlib\n",
    "import seaborn as sns; sns.set()\n",
    "import warnings\n",
    "\n",
    "from IPython.display import display\n",
    "pd.options.display.max_columns = None\n",
    "pd.options.display.max_rows = None\n",
    "warnings.filterwarnings(module='sklearn*', action='ignore', category=DeprecationWarning)"
   ]
  },
  {
   "cell_type": "code",
   "execution_count": 2,
   "metadata": {},
   "outputs": [],
   "source": [
    "## Read in the data\n",
    "\n",
    "df_pitching = pd.read_csv(r'C:\\Users\\jbean\\Dropbox\\Other\\Python\\Baseball_2018\\pitching_stats.csv')\n",
    "df_batting = pd.read_csv(r'C:\\Users\\jbean\\Dropbox\\Other\\Python\\Baseball_2018\\batting_stats.csv')\n",
    "df_playoffs = pd.read_csv(r'C:\\Users\\jbean\\Dropbox\\Other\\Python\\Baseball_2018\\mlb_playoff_teams.csv', encoding='latin-1',\n",
    "                         index_col = 'team')"
   ]
  },
  {
   "cell_type": "code",
   "execution_count": 3,
   "metadata": {},
   "outputs": [
    {
     "name": "stdout",
     "output_type": "stream",
     "text": [
      "                                             postseason world_series\n",
      "team                                                                \n",
      "NYM   1969, 1973, 1986, 1988, 1999, 2000, 2006, 2015...   1969, 1986\n",
      "HOU   1980, 1981, 1986, 1997, 1998, 1999, 2001, 2004...         2017\n",
      "CHC   1906, 1907, 1908, 1910, 1918, 1929, 1932, 1935...         2016\n",
      "WSA                                                None         None\n",
      "DET   1907, 1908, 1909, 1934, 1935, 1940, 1945, 1968...         1984\n"
     ]
    }
   ],
   "source": [
    "# Print sample of the data\n",
    "\n",
    "df_playoffs.fillna('None', inplace=True)\n",
    "print(df_playoffs.sample(5))"
   ]
  },
  {
   "cell_type": "code",
   "execution_count": 4,
   "metadata": {},
   "outputs": [
    {
     "name": "stdout",
     "output_type": "stream",
     "text": [
      "      complete_game  earned_runs  hbp  hits  innings_pitched  hits_per_nine  \\\n",
      "864               8          627   72  1389           1435.1            8.7   \n",
      "434              33          645   30  1374           1443.2            8.6   \n",
      "1050              4          810   80  1538           1422.0            9.7   \n",
      "1162              3          522   50  1260           1468.0            7.7   \n",
      "722               8          635   30  1404           1461.0            8.6   \n",
      "420              26          549   25  1399           1451.1            8.7   \n",
      "622              26          716   60  1511           1447.0            9.4   \n",
      "631              22          678   66  1421           1453.2            8.8   \n",
      "182              26          639   43  1442           1440.0            9.0   \n",
      "1212              2          602   47  1376           1460.0            8.5   \n",
      "\n",
      "      homeruns  hr_per_nine  left_on_base  pitcher_age  pitchers_used  runs  \\\n",
      "864        196          1.2          1131         29.3             22   684   \n",
      "434        183          1.1          1113         28.9             16   714   \n",
      "1050       184          1.2          1279         27.9             26   869   \n",
      "1162        96          0.6          1148         28.5             17   578   \n",
      "722        164          1.0          1155         30.7             17   681   \n",
      "420        127          0.8          1073         28.2             15   622   \n",
      "622        153          1.0          1152         27.3             19   792   \n",
      "631        135          0.8          1162         28.3             23   731   \n",
      "182         89          0.6          1228         27.4             19   734   \n",
      "1212       121          0.7          1140         26.0             26   646   \n",
      "\n",
      "      so_per_nine  so_walk  strikeouts team  walks  walks_per_nine   whip  \\\n",
      "864           6.8     2.06        1083  STL    526             3.3  1.334   \n",
      "434           5.5     1.54         880  DET    571             3.6  1.347   \n",
      "1050          5.8     1.34         922  BAL    687             4.3  1.565   \n",
      "1162          8.1     2.35        1316  SFG    559             3.4  1.239   \n",
      "722           7.0     2.02        1139  BAL    563             3.5  1.346   \n",
      "420           4.5     1.64         727  SDP    443             2.7  1.269   \n",
      "622           5.0     1.55         810  MIL    522             3.2  1.405   \n",
      "631           6.7     1.79        1083  SEA    605             3.7  1.394   \n",
      "182           4.9     1.19         783  WSN    659             4.1  1.459   \n",
      "1212          7.3     2.24        1177  MIA    526             3.2  1.303   \n",
      "\n",
      "      year  \n",
      "864   2001  \n",
      "434   1986  \n",
      "1050  2008  \n",
      "1162  2011  \n",
      "722   1997  \n",
      "420   1985  \n",
      "622   1993  \n",
      "631   1993  \n",
      "182   1976  \n",
      "1212  2013  \n"
     ]
    }
   ],
   "source": [
    "print(df_pitching.sample(10))"
   ]
  },
  {
   "cell_type": "code",
   "execution_count": 5,
   "metadata": {},
   "outputs": [
    {
     "name": "stdout",
     "output_type": "stream",
     "text": [
      "     team  batters_used  batter_age  games  runs  hits  doubles  triples  \\\n",
      "892   SEA            40        31.2    162   814  1531      285       31   \n",
      "660   SFG            36        28.4    115   504   963      159       32   \n",
      "1325  CLE            41        28.0    162   818  1449      333       29   \n",
      "1071  SEA            44        29.7    162   671  1498      285       20   \n",
      "1178  HOU            50        26.6    162   583  1276      238       28   \n",
      "\n",
      "      homeruns  rbi  stolen_base  walks  strikeouts  batting_average  \\\n",
      "892        152  771          137    629        1003            0.275   \n",
      "660        123  472          114    364         719            0.249   \n",
      "1325       212  780           88    604        1153            0.263   \n",
      "1071       124  631           90    417         890            0.265   \n",
      "1178       146  545          105    463        1365            0.236   \n",
      "\n",
      "      on_base_percentage  slugging    ops  ops_plus  total_bases  \\\n",
      "892                0.350     0.419  0.769       107         2334   \n",
      "660                0.318     0.402  0.720        92         1555   \n",
      "1325               0.339     0.449  0.788       104         2476   \n",
      "1071               0.318     0.389  0.707        90         2195   \n",
      "1178               0.302     0.371  0.673        82         2008   \n",
      "\n",
      "      left_on_base  year  \n",
      "892           1239  2002  \n",
      "660            783  1994  \n",
      "1325          1158  2017  \n",
      "1071          1151  2008  \n",
      "1178          1090  2012  \n"
     ]
    }
   ],
   "source": [
    "print(df_batting.sample(5))"
   ]
  },
  {
   "cell_type": "code",
   "execution_count": 6,
   "metadata": {},
   "outputs": [
    {
     "data": {
      "text/plain": [
       "True"
      ]
     },
     "execution_count": 6,
     "metadata": {},
     "output_type": "execute_result"
    }
   ],
   "source": [
    "# Test to make sure the unique team names are the same in all lists \n",
    "\n",
    "list(sorted(set(df_pitching.team))) == list(sorted(set(df_batting.team))) == list(sorted(set(df_playoffs.index)))"
   ]
  },
  {
   "cell_type": "markdown",
   "metadata": {},
   "source": [
    "# Data merging and cleaning"
   ]
  },
  {
   "cell_type": "code",
   "execution_count": 7,
   "metadata": {},
   "outputs": [],
   "source": [
    "# Merge batting and pitching statistics for each team for each year\n",
    "\n",
    "df_all = df_pitching.merge(df_batting, on=['year','team'], how='left', suffixes=('_pitching', '_batting'))"
   ]
  },
  {
   "cell_type": "code",
   "execution_count": 8,
   "metadata": {},
   "outputs": [
    {
     "name": "stdout",
     "output_type": "stream",
     "text": [
      "     complete_game  earned_runs  hbp  hits_pitching  innings_pitched  \\\n",
      "391             15          712   35           1554           1430.0   \n",
      "65              57          498   33           1229           1469.1   \n",
      "394             13          565   22           1327           1460.1   \n",
      "564             18          726   24           1570           1450.1   \n",
      "181             29          599   38           1421           1459.0   \n",
      "\n",
      "     hits_per_nine  homeruns_pitching  hr_per_nine  left_on_base_pitching  \\\n",
      "391            9.8                155          1.0                   1229   \n",
      "65             7.5                131          0.8                   1047   \n",
      "394            8.2                122          0.8                   1147   \n",
      "564            9.7                148          0.9                   1198   \n",
      "181            8.8                 89          0.5                   1154   \n",
      "\n",
      "     pitcher_age  pitchers_used  runs_pitching  so_per_nine  so_walk  \\\n",
      "391         27.5             20            796          4.4     1.17   \n",
      "65          26.5             16            564          6.1     1.99   \n",
      "394         27.6             13            634          5.0     1.44   \n",
      "564         30.8             19            794          4.6     1.25   \n",
      "181         26.6             13            704          4.7     1.25   \n",
      "\n",
      "     strikeouts_pitching team  walks_pitching  walks_per_nine   whip  year  \\\n",
      "391                  695  OAK             592             3.7  1.501  1984   \n",
      "65                   999  OAK             501             3.1  1.177  1971   \n",
      "394                  812  SDP             563             3.5  1.294  1984   \n",
      "564                  739  DET             593             3.7  1.491  1991   \n",
      "181                  762  MIN             610             3.8  1.392  1976   \n",
      "\n",
      "     batters_used  batter_age  games  runs_batting  hits_batting  doubles  \\\n",
      "391            37        29.8    162           738          1415      257   \n",
      "65             40        26.8    161           691          1383      195   \n",
      "394            31        28.3    162           686          1425      207   \n",
      "564            41        29.1    162           817          1372      259   \n",
      "181            31        26.6    162           743          1526      222   \n",
      "\n",
      "     triples  homeruns_batting  rbi  stolen_base  walks_batting  \\\n",
      "391       29               158  697          145            568   \n",
      "65        25               160  642           80            542   \n",
      "394       42               109  629          152            472   \n",
      "564       26               209  778          109            699   \n",
      "181       51                81  691          146            550   \n",
      "\n",
      "     strikeouts_batting  batting_average  on_base_percentage  slugging    ops  \\\n",
      "391                 871            0.259               0.327     0.404  0.731   \n",
      "65                 1018            0.252               0.321     0.384  0.705   \n",
      "394                 810            0.259               0.317     0.371  0.688   \n",
      "564                1185            0.247               0.333     0.416  0.749   \n",
      "181                 714            0.274               0.341     0.375  0.716   \n",
      "\n",
      "     ops_plus  total_bases  left_on_base_batting  \n",
      "391       109         2204                  1115  \n",
      "65        101         2108                  1145  \n",
      "394        94         2043                  1086  \n",
      "564       105         2310                  1194  \n",
      "181       108         2093                  1197  \n"
     ]
    }
   ],
   "source": [
    "print(df_all.sample(5))"
   ]
  },
  {
   "cell_type": "code",
   "execution_count": 9,
   "metadata": {},
   "outputs": [
    {
     "name": "stdout",
     "output_type": "stream",
     "text": [
      "1378\n"
     ]
    }
   ],
   "source": [
    "print(len(df_all))"
   ]
  },
  {
   "cell_type": "code",
   "execution_count": 10,
   "metadata": {},
   "outputs": [],
   "source": [
    "## Search for each year in the playoff data set for each team and mark 1 if the team made the playoffs\n",
    "\n",
    "playoff_appearance = []\n",
    "\n",
    "for i in range(1969, 2019):\n",
    "    \n",
    "    df = df_all[df_all.year == i]\n",
    "    \n",
    "    for team in df.team:\n",
    "        \n",
    "        df_plyoff = df_playoffs[df_playoffs.index == team]\n",
    "        \n",
    "        if df_plyoff.postseason.str.contains(str(i))[0]:\n",
    "            \n",
    "            playoff_appearance.append(1)\n",
    "            \n",
    "        else:\n",
    "            playoff_appearance.append(0)"
   ]
  },
  {
   "cell_type": "code",
   "execution_count": 11,
   "metadata": {},
   "outputs": [],
   "source": [
    "## Search for each year in the World Series data for each team and mark 1 if the team made the playoffs\n",
    "\n",
    "world_series = []\n",
    "\n",
    "for i in range(1969, 2019):\n",
    "    \n",
    "    df = df_all[df_all.year == i]\n",
    "    \n",
    "    for team in df.team:\n",
    "        \n",
    "        df_ws = df_playoffs[df_playoffs.index == team]\n",
    "        \n",
    "        if df_ws.world_series.str.contains(str(i))[0]:\n",
    "            \n",
    "            world_series.append(1)\n",
    "            \n",
    "        else:\n",
    "            world_series.append(0)"
   ]
  },
  {
   "cell_type": "code",
   "execution_count": 12,
   "metadata": {},
   "outputs": [
    {
     "data": {
      "text/plain": [
       "True"
      ]
     },
     "execution_count": 12,
     "metadata": {},
     "output_type": "execute_result"
    }
   ],
   "source": [
    "## Veritfy that the length of the lists matches the length of the data set\n",
    "\n",
    "len(playoff_appearance) == len(world_series) == len(df_all)"
   ]
  },
  {
   "cell_type": "code",
   "execution_count": 13,
   "metadata": {},
   "outputs": [],
   "source": [
    "## Add the new variables to the data frame\n",
    "\n",
    "df_all['playoffs'] = playoff_appearance\n",
    "df_all['world_series'] = world_series"
   ]
  },
  {
   "cell_type": "code",
   "execution_count": 14,
   "metadata": {},
   "outputs": [
    {
     "data": {
      "text/html": [
       "<div>\n",
       "<style scoped>\n",
       "    .dataframe tbody tr th:only-of-type {\n",
       "        vertical-align: middle;\n",
       "    }\n",
       "\n",
       "    .dataframe tbody tr th {\n",
       "        vertical-align: top;\n",
       "    }\n",
       "\n",
       "    .dataframe thead th {\n",
       "        text-align: right;\n",
       "    }\n",
       "</style>\n",
       "<table border=\"1\" class=\"dataframe\">\n",
       "  <thead>\n",
       "    <tr style=\"text-align: right;\">\n",
       "      <th></th>\n",
       "      <th>complete_game</th>\n",
       "      <th>earned_runs</th>\n",
       "      <th>hbp</th>\n",
       "      <th>hits_pitching</th>\n",
       "      <th>innings_pitched</th>\n",
       "      <th>hits_per_nine</th>\n",
       "      <th>homeruns_pitching</th>\n",
       "      <th>hr_per_nine</th>\n",
       "      <th>left_on_base_pitching</th>\n",
       "      <th>pitcher_age</th>\n",
       "      <th>pitchers_used</th>\n",
       "      <th>runs_pitching</th>\n",
       "      <th>so_per_nine</th>\n",
       "      <th>so_walk</th>\n",
       "      <th>strikeouts_pitching</th>\n",
       "      <th>team</th>\n",
       "      <th>walks_pitching</th>\n",
       "      <th>walks_per_nine</th>\n",
       "      <th>whip</th>\n",
       "      <th>year</th>\n",
       "      <th>batters_used</th>\n",
       "      <th>batter_age</th>\n",
       "      <th>games</th>\n",
       "      <th>runs_batting</th>\n",
       "      <th>hits_batting</th>\n",
       "      <th>doubles</th>\n",
       "      <th>triples</th>\n",
       "      <th>homeruns_batting</th>\n",
       "      <th>rbi</th>\n",
       "      <th>stolen_base</th>\n",
       "      <th>walks_batting</th>\n",
       "      <th>strikeouts_batting</th>\n",
       "      <th>batting_average</th>\n",
       "      <th>on_base_percentage</th>\n",
       "      <th>slugging</th>\n",
       "      <th>ops</th>\n",
       "      <th>ops_plus</th>\n",
       "      <th>total_bases</th>\n",
       "      <th>left_on_base_batting</th>\n",
       "      <th>playoffs</th>\n",
       "      <th>world_series</th>\n",
       "    </tr>\n",
       "  </thead>\n",
       "  <tbody>\n",
       "    <tr>\n",
       "      <th>0</th>\n",
       "      <td>38</td>\n",
       "      <td>566</td>\n",
       "      <td>27</td>\n",
       "      <td>1334</td>\n",
       "      <td>1445.0</td>\n",
       "      <td>8.3</td>\n",
       "      <td>144</td>\n",
       "      <td>0.9</td>\n",
       "      <td>1076</td>\n",
       "      <td>27.5</td>\n",
       "      <td>18</td>\n",
       "      <td>631</td>\n",
       "      <td>5.6</td>\n",
       "      <td>2.04</td>\n",
       "      <td>893</td>\n",
       "      <td>ATL</td>\n",
       "      <td>438</td>\n",
       "      <td>2.7</td>\n",
       "      <td>1.226</td>\n",
       "      <td>1969</td>\n",
       "      <td>39</td>\n",
       "      <td>29.0</td>\n",
       "      <td>162</td>\n",
       "      <td>691</td>\n",
       "      <td>1411</td>\n",
       "      <td>195</td>\n",
       "      <td>22</td>\n",
       "      <td>141</td>\n",
       "      <td>640</td>\n",
       "      <td>59</td>\n",
       "      <td>485</td>\n",
       "      <td>665</td>\n",
       "      <td>0.258</td>\n",
       "      <td>0.321</td>\n",
       "      <td>0.380</td>\n",
       "      <td>0.700</td>\n",
       "      <td>95</td>\n",
       "      <td>2073</td>\n",
       "      <td>1107</td>\n",
       "      <td>1</td>\n",
       "      <td>0</td>\n",
       "    </tr>\n",
       "    <tr>\n",
       "      <th>1</th>\n",
       "      <td>50</td>\n",
       "      <td>463</td>\n",
       "      <td>22</td>\n",
       "      <td>1194</td>\n",
       "      <td>1473.2</td>\n",
       "      <td>7.3</td>\n",
       "      <td>117</td>\n",
       "      <td>0.7</td>\n",
       "      <td>1033</td>\n",
       "      <td>27.7</td>\n",
       "      <td>14</td>\n",
       "      <td>517</td>\n",
       "      <td>5.5</td>\n",
       "      <td>1.80</td>\n",
       "      <td>897</td>\n",
       "      <td>BAL</td>\n",
       "      <td>498</td>\n",
       "      <td>3.0</td>\n",
       "      <td>1.148</td>\n",
       "      <td>1969</td>\n",
       "      <td>30</td>\n",
       "      <td>28.1</td>\n",
       "      <td>162</td>\n",
       "      <td>779</td>\n",
       "      <td>1465</td>\n",
       "      <td>234</td>\n",
       "      <td>29</td>\n",
       "      <td>175</td>\n",
       "      <td>722</td>\n",
       "      <td>82</td>\n",
       "      <td>634</td>\n",
       "      <td>806</td>\n",
       "      <td>0.265</td>\n",
       "      <td>0.343</td>\n",
       "      <td>0.414</td>\n",
       "      <td>0.756</td>\n",
       "      <td>110</td>\n",
       "      <td>2282</td>\n",
       "      <td>1200</td>\n",
       "      <td>1</td>\n",
       "      <td>0</td>\n",
       "    </tr>\n",
       "    <tr>\n",
       "      <th>2</th>\n",
       "      <td>30</td>\n",
       "      <td>639</td>\n",
       "      <td>48</td>\n",
       "      <td>1423</td>\n",
       "      <td>1466.2</td>\n",
       "      <td>8.7</td>\n",
       "      <td>155</td>\n",
       "      <td>1.0</td>\n",
       "      <td>1257</td>\n",
       "      <td>26.5</td>\n",
       "      <td>19</td>\n",
       "      <td>736</td>\n",
       "      <td>5.7</td>\n",
       "      <td>1.37</td>\n",
       "      <td>935</td>\n",
       "      <td>BOS</td>\n",
       "      <td>685</td>\n",
       "      <td>4.2</td>\n",
       "      <td>1.437</td>\n",
       "      <td>1969</td>\n",
       "      <td>40</td>\n",
       "      <td>26.1</td>\n",
       "      <td>162</td>\n",
       "      <td>743</td>\n",
       "      <td>1381</td>\n",
       "      <td>234</td>\n",
       "      <td>37</td>\n",
       "      <td>197</td>\n",
       "      <td>701</td>\n",
       "      <td>41</td>\n",
       "      <td>658</td>\n",
       "      <td>923</td>\n",
       "      <td>0.251</td>\n",
       "      <td>0.333</td>\n",
       "      <td>0.415</td>\n",
       "      <td>0.748</td>\n",
       "      <td>103</td>\n",
       "      <td>2280</td>\n",
       "      <td>1164</td>\n",
       "      <td>0</td>\n",
       "      <td>0</td>\n",
       "    </tr>\n",
       "    <tr>\n",
       "      <th>3</th>\n",
       "      <td>25</td>\n",
       "      <td>566</td>\n",
       "      <td>51</td>\n",
       "      <td>1294</td>\n",
       "      <td>1438.1</td>\n",
       "      <td>8.1</td>\n",
       "      <td>126</td>\n",
       "      <td>0.8</td>\n",
       "      <td>1032</td>\n",
       "      <td>26.6</td>\n",
       "      <td>19</td>\n",
       "      <td>652</td>\n",
       "      <td>5.5</td>\n",
       "      <td>1.71</td>\n",
       "      <td>885</td>\n",
       "      <td>LAA</td>\n",
       "      <td>517</td>\n",
       "      <td>3.2</td>\n",
       "      <td>1.259</td>\n",
       "      <td>1969</td>\n",
       "      <td>45</td>\n",
       "      <td>26.1</td>\n",
       "      <td>163</td>\n",
       "      <td>528</td>\n",
       "      <td>1221</td>\n",
       "      <td>151</td>\n",
       "      <td>29</td>\n",
       "      <td>88</td>\n",
       "      <td>480</td>\n",
       "      <td>54</td>\n",
       "      <td>516</td>\n",
       "      <td>929</td>\n",
       "      <td>0.230</td>\n",
       "      <td>0.300</td>\n",
       "      <td>0.319</td>\n",
       "      <td>0.618</td>\n",
       "      <td>78</td>\n",
       "      <td>1694</td>\n",
       "      <td>1115</td>\n",
       "      <td>0</td>\n",
       "      <td>0</td>\n",
       "    </tr>\n",
       "    <tr>\n",
       "      <th>4</th>\n",
       "      <td>58</td>\n",
       "      <td>540</td>\n",
       "      <td>29</td>\n",
       "      <td>1366</td>\n",
       "      <td>1454.1</td>\n",
       "      <td>8.5</td>\n",
       "      <td>118</td>\n",
       "      <td>0.7</td>\n",
       "      <td>1129</td>\n",
       "      <td>27.6</td>\n",
       "      <td>17</td>\n",
       "      <td>611</td>\n",
       "      <td>6.3</td>\n",
       "      <td>2.14</td>\n",
       "      <td>1017</td>\n",
       "      <td>CHC</td>\n",
       "      <td>475</td>\n",
       "      <td>2.9</td>\n",
       "      <td>1.266</td>\n",
       "      <td>1969</td>\n",
       "      <td>41</td>\n",
       "      <td>29.2</td>\n",
       "      <td>163</td>\n",
       "      <td>720</td>\n",
       "      <td>1400</td>\n",
       "      <td>215</td>\n",
       "      <td>40</td>\n",
       "      <td>142</td>\n",
       "      <td>671</td>\n",
       "      <td>30</td>\n",
       "      <td>559</td>\n",
       "      <td>928</td>\n",
       "      <td>0.253</td>\n",
       "      <td>0.323</td>\n",
       "      <td>0.384</td>\n",
       "      <td>0.707</td>\n",
       "      <td>88</td>\n",
       "      <td>2121</td>\n",
       "      <td>1186</td>\n",
       "      <td>0</td>\n",
       "      <td>0</td>\n",
       "    </tr>\n",
       "  </tbody>\n",
       "</table>\n",
       "</div>"
      ],
      "text/plain": [
       "   complete_game  earned_runs  hbp  hits_pitching  innings_pitched  \\\n",
       "0             38          566   27           1334           1445.0   \n",
       "1             50          463   22           1194           1473.2   \n",
       "2             30          639   48           1423           1466.2   \n",
       "3             25          566   51           1294           1438.1   \n",
       "4             58          540   29           1366           1454.1   \n",
       "\n",
       "   hits_per_nine  homeruns_pitching  hr_per_nine  left_on_base_pitching  \\\n",
       "0            8.3                144          0.9                   1076   \n",
       "1            7.3                117          0.7                   1033   \n",
       "2            8.7                155          1.0                   1257   \n",
       "3            8.1                126          0.8                   1032   \n",
       "4            8.5                118          0.7                   1129   \n",
       "\n",
       "   pitcher_age  pitchers_used  runs_pitching  so_per_nine  so_walk  \\\n",
       "0         27.5             18            631          5.6     2.04   \n",
       "1         27.7             14            517          5.5     1.80   \n",
       "2         26.5             19            736          5.7     1.37   \n",
       "3         26.6             19            652          5.5     1.71   \n",
       "4         27.6             17            611          6.3     2.14   \n",
       "\n",
       "   strikeouts_pitching team  walks_pitching  walks_per_nine   whip  year  \\\n",
       "0                  893  ATL             438             2.7  1.226  1969   \n",
       "1                  897  BAL             498             3.0  1.148  1969   \n",
       "2                  935  BOS             685             4.2  1.437  1969   \n",
       "3                  885  LAA             517             3.2  1.259  1969   \n",
       "4                 1017  CHC             475             2.9  1.266  1969   \n",
       "\n",
       "   batters_used  batter_age  games  runs_batting  hits_batting  doubles  \\\n",
       "0            39        29.0    162           691          1411      195   \n",
       "1            30        28.1    162           779          1465      234   \n",
       "2            40        26.1    162           743          1381      234   \n",
       "3            45        26.1    163           528          1221      151   \n",
       "4            41        29.2    163           720          1400      215   \n",
       "\n",
       "   triples  homeruns_batting  rbi  stolen_base  walks_batting  \\\n",
       "0       22               141  640           59            485   \n",
       "1       29               175  722           82            634   \n",
       "2       37               197  701           41            658   \n",
       "3       29                88  480           54            516   \n",
       "4       40               142  671           30            559   \n",
       "\n",
       "   strikeouts_batting  batting_average  on_base_percentage  slugging    ops  \\\n",
       "0                 665            0.258               0.321     0.380  0.700   \n",
       "1                 806            0.265               0.343     0.414  0.756   \n",
       "2                 923            0.251               0.333     0.415  0.748   \n",
       "3                 929            0.230               0.300     0.319  0.618   \n",
       "4                 928            0.253               0.323     0.384  0.707   \n",
       "\n",
       "   ops_plus  total_bases  left_on_base_batting  playoffs  world_series  \n",
       "0        95         2073                  1107         1             0  \n",
       "1       110         2282                  1200         1             0  \n",
       "2       103         2280                  1164         0             0  \n",
       "3        78         1694                  1115         0             0  \n",
       "4        88         2121                  1186         0             0  "
      ]
     },
     "execution_count": 14,
     "metadata": {},
     "output_type": "execute_result"
    }
   ],
   "source": [
    "## Preview the new data\n",
    "\n",
    "df_all.head()"
   ]
  },
  {
   "cell_type": "markdown",
   "metadata": {},
   "source": [
    "# Data preparation"
   ]
  },
  {
   "cell_type": "code",
   "execution_count": 15,
   "metadata": {},
   "outputs": [],
   "source": [
    "## Define an ERA variable\n",
    "\n",
    "df_all['era'] = df_all['earned_runs'] / df_all['innings_pitched']"
   ]
  },
  {
   "cell_type": "code",
   "execution_count": 16,
   "metadata": {},
   "outputs": [],
   "source": [
    "## Standardize aggregated variables to a per-game variable\n",
    "\n",
    "vars_to_standardize = ['complete_game','earned_runs','hbp','innings_pitched','homeruns_pitching','left_on_base_pitching',\n",
    "                      'runs_pitching','runs_batting','hits_batting','doubles','triples','homeruns_batting','rbi','stolen_base',\n",
    "                      'walks_batting','strikeouts_batting','total_bases','left_on_base_batting']\n",
    "\n",
    "for var in vars_to_standardize:\n",
    "    \n",
    "    df_all[var] = df_all[var] / (df_all.games)"
   ]
  },
  {
   "cell_type": "code",
   "execution_count": 17,
   "metadata": {},
   "outputs": [],
   "source": [
    "## Apply an annual MinMaxScaler transformation to variables\n",
    "\n",
    "from sklearn.preprocessing import MinMaxScaler\n",
    "\n",
    "df_scaled = pd.DataFrame()\n",
    "\n",
    "for yr in list(set(df_all.year)):\n",
    "    \n",
    "    df = df_all[df_all.year == yr]\n",
    "    \n",
    "    df = df.select_dtypes(include=['float','int'])\n",
    "    \n",
    "    scaler = MinMaxScaler()\n",
    "    \n",
    "    df_transformed = scaler.fit_transform(df)\n",
    "    \n",
    "    df_scaled = df_scaled.append(pd.DataFrame(df_transformed))"
   ]
  },
  {
   "cell_type": "code",
   "execution_count": 18,
   "metadata": {},
   "outputs": [],
   "source": [
    "## Add column names\n",
    "\n",
    "df_scaled.columns = df_all.select_dtypes(include=['float','int']).columns\n",
    "df_scaled.reset_index(drop=True, inplace=True)"
   ]
  },
  {
   "cell_type": "code",
   "execution_count": 19,
   "metadata": {},
   "outputs": [],
   "source": [
    "## Add in additional variables that were lost in scaling\n",
    "\n",
    "df_scaled['year'] = df_all['year']\n",
    "df_scaled['team'] = df_all['team']\n",
    "\n",
    "df_scaled['playoff_appearance'] = df_all['playoffs']\n",
    "df_scaled['world_series'] = df_all['world_series']"
   ]
  },
  {
   "cell_type": "markdown",
   "metadata": {},
   "source": [
    "# Predicting playoff teams"
   ]
  },
  {
   "cell_type": "code",
   "execution_count": 20,
   "metadata": {},
   "outputs": [],
   "source": [
    "# Models\n",
    "\n",
    "from sklearn.linear_model import LogisticRegression\n",
    "from sklearn.ensemble import RandomForestClassifier\n",
    "from sklearn.neighbors import KNeighborsClassifier\n",
    "from sklearn.svm import SVC\n",
    "from xgboost import XGBClassifier\n",
    "\n",
    "# Model evaluation\n",
    "\n",
    "from sklearn.metrics import classification_report\n",
    "from sklearn.metrics import roc_auc_score\n",
    "\n",
    "# Model preparation\n",
    "\n",
    "from sklearn.model_selection import train_test_split"
   ]
  },
  {
   "cell_type": "code",
   "execution_count": 21,
   "metadata": {},
   "outputs": [
    {
     "data": {
      "text/html": [
       "<div>\n",
       "<style scoped>\n",
       "    .dataframe tbody tr th:only-of-type {\n",
       "        vertical-align: middle;\n",
       "    }\n",
       "\n",
       "    .dataframe tbody tr th {\n",
       "        vertical-align: top;\n",
       "    }\n",
       "\n",
       "    .dataframe thead th {\n",
       "        text-align: right;\n",
       "    }\n",
       "</style>\n",
       "<table border=\"1\" class=\"dataframe\">\n",
       "  <thead>\n",
       "    <tr style=\"text-align: right;\">\n",
       "      <th></th>\n",
       "      <th>complete_game</th>\n",
       "      <th>earned_runs</th>\n",
       "      <th>hbp</th>\n",
       "      <th>innings_pitched</th>\n",
       "      <th>hits_per_nine</th>\n",
       "      <th>homeruns_pitching</th>\n",
       "      <th>hr_per_nine</th>\n",
       "      <th>left_on_base_pitching</th>\n",
       "      <th>pitcher_age</th>\n",
       "      <th>runs_pitching</th>\n",
       "      <th>so_per_nine</th>\n",
       "      <th>so_walk</th>\n",
       "      <th>walks_per_nine</th>\n",
       "      <th>whip</th>\n",
       "      <th>batter_age</th>\n",
       "      <th>runs_batting</th>\n",
       "      <th>hits_batting</th>\n",
       "      <th>doubles</th>\n",
       "      <th>triples</th>\n",
       "      <th>homeruns_batting</th>\n",
       "      <th>rbi</th>\n",
       "      <th>stolen_base</th>\n",
       "      <th>walks_batting</th>\n",
       "      <th>strikeouts_batting</th>\n",
       "      <th>batting_average</th>\n",
       "      <th>on_base_percentage</th>\n",
       "      <th>slugging</th>\n",
       "      <th>ops</th>\n",
       "      <th>total_bases</th>\n",
       "      <th>left_on_base_batting</th>\n",
       "      <th>era</th>\n",
       "      <th>year</th>\n",
       "      <th>team</th>\n",
       "      <th>playoff_appearance</th>\n",
       "      <th>world_series</th>\n",
       "    </tr>\n",
       "  </thead>\n",
       "  <tbody>\n",
       "    <tr>\n",
       "      <th>36</th>\n",
       "      <td>0.270245</td>\n",
       "      <td>0.730438</td>\n",
       "      <td>0.841627</td>\n",
       "      <td>0.150262</td>\n",
       "      <td>0.450000</td>\n",
       "      <td>0.519329</td>\n",
       "      <td>0.5</td>\n",
       "      <td>0.333151</td>\n",
       "      <td>0.722222</td>\n",
       "      <td>0.684098</td>\n",
       "      <td>0.421053</td>\n",
       "      <td>0.289157</td>\n",
       "      <td>0.529412</td>\n",
       "      <td>0.569930</td>\n",
       "      <td>0.804878</td>\n",
       "      <td>0.049504</td>\n",
       "      <td>0.061853</td>\n",
       "      <td>0.229599</td>\n",
       "      <td>0.077055</td>\n",
       "      <td>0.326405</td>\n",
       "      <td>0.051080</td>\n",
       "      <td>0.574770</td>\n",
       "      <td>0.506555</td>\n",
       "      <td>0.567657</td>\n",
       "      <td>0.151515</td>\n",
       "      <td>0.304348</td>\n",
       "      <td>0.113636</td>\n",
       "      <td>0.182609</td>\n",
       "      <td>0.010324</td>\n",
       "      <td>0.402344</td>\n",
       "      <td>0.758701</td>\n",
       "      <td>1970</td>\n",
       "      <td>MIL</td>\n",
       "      <td>0</td>\n",
       "      <td>0</td>\n",
       "    </tr>\n",
       "    <tr>\n",
       "      <th>237</th>\n",
       "      <td>0.285714</td>\n",
       "      <td>0.211978</td>\n",
       "      <td>0.678188</td>\n",
       "      <td>0.779373</td>\n",
       "      <td>0.235294</td>\n",
       "      <td>0.357375</td>\n",
       "      <td>0.2</td>\n",
       "      <td>0.863929</td>\n",
       "      <td>0.615385</td>\n",
       "      <td>0.250369</td>\n",
       "      <td>0.863636</td>\n",
       "      <td>0.677083</td>\n",
       "      <td>0.428571</td>\n",
       "      <td>0.282759</td>\n",
       "      <td>0.720000</td>\n",
       "      <td>0.574443</td>\n",
       "      <td>0.418732</td>\n",
       "      <td>0.434074</td>\n",
       "      <td>0.883040</td>\n",
       "      <td>0.443828</td>\n",
       "      <td>0.529331</td>\n",
       "      <td>0.991071</td>\n",
       "      <td>0.356554</td>\n",
       "      <td>0.908759</td>\n",
       "      <td>0.406250</td>\n",
       "      <td>0.472222</td>\n",
       "      <td>0.440476</td>\n",
       "      <td>0.435897</td>\n",
       "      <td>0.436893</td>\n",
       "      <td>0.093465</td>\n",
       "      <td>0.190611</td>\n",
       "      <td>1978</td>\n",
       "      <td>PIT</td>\n",
       "      <td>0</td>\n",
       "      <td>0</td>\n",
       "    </tr>\n",
       "    <tr>\n",
       "      <th>360</th>\n",
       "      <td>0.684211</td>\n",
       "      <td>0.609211</td>\n",
       "      <td>0.562500</td>\n",
       "      <td>0.642218</td>\n",
       "      <td>0.727273</td>\n",
       "      <td>0.513158</td>\n",
       "      <td>0.4</td>\n",
       "      <td>0.746914</td>\n",
       "      <td>0.693548</td>\n",
       "      <td>0.474015</td>\n",
       "      <td>0.200000</td>\n",
       "      <td>0.208333</td>\n",
       "      <td>0.181818</td>\n",
       "      <td>0.543568</td>\n",
       "      <td>0.637931</td>\n",
       "      <td>0.851240</td>\n",
       "      <td>1.000000</td>\n",
       "      <td>0.884899</td>\n",
       "      <td>0.853659</td>\n",
       "      <td>0.576471</td>\n",
       "      <td>0.867257</td>\n",
       "      <td>0.346341</td>\n",
       "      <td>0.333054</td>\n",
       "      <td>0.000000</td>\n",
       "      <td>1.000000</td>\n",
       "      <td>0.804878</td>\n",
       "      <td>0.804348</td>\n",
       "      <td>0.823077</td>\n",
       "      <td>0.849192</td>\n",
       "      <td>0.571234</td>\n",
       "      <td>0.588593</td>\n",
       "      <td>1983</td>\n",
       "      <td>MIL</td>\n",
       "      <td>0</td>\n",
       "      <td>0</td>\n",
       "    </tr>\n",
       "    <tr>\n",
       "      <th>1012</th>\n",
       "      <td>0.503623</td>\n",
       "      <td>0.437285</td>\n",
       "      <td>0.614907</td>\n",
       "      <td>0.387744</td>\n",
       "      <td>0.263158</td>\n",
       "      <td>0.030474</td>\n",
       "      <td>0.2</td>\n",
       "      <td>0.475343</td>\n",
       "      <td>0.424242</td>\n",
       "      <td>0.405091</td>\n",
       "      <td>0.238095</td>\n",
       "      <td>0.151351</td>\n",
       "      <td>0.714286</td>\n",
       "      <td>0.407738</td>\n",
       "      <td>1.000000</td>\n",
       "      <td>0.255741</td>\n",
       "      <td>0.149331</td>\n",
       "      <td>0.360931</td>\n",
       "      <td>0.876587</td>\n",
       "      <td>0.357254</td>\n",
       "      <td>0.259588</td>\n",
       "      <td>0.075879</td>\n",
       "      <td>0.368478</td>\n",
       "      <td>0.065077</td>\n",
       "      <td>0.125000</td>\n",
       "      <td>0.204082</td>\n",
       "      <td>0.373134</td>\n",
       "      <td>0.227723</td>\n",
       "      <td>0.279370</td>\n",
       "      <td>0.231113</td>\n",
       "      <td>0.434153</td>\n",
       "      <td>2006</td>\n",
       "      <td>SFG</td>\n",
       "      <td>0</td>\n",
       "      <td>0</td>\n",
       "    </tr>\n",
       "    <tr>\n",
       "      <th>497</th>\n",
       "      <td>0.035833</td>\n",
       "      <td>0.368000</td>\n",
       "      <td>0.351220</td>\n",
       "      <td>0.519516</td>\n",
       "      <td>0.333333</td>\n",
       "      <td>0.384493</td>\n",
       "      <td>0.4</td>\n",
       "      <td>0.364728</td>\n",
       "      <td>0.000000</td>\n",
       "      <td>0.333202</td>\n",
       "      <td>0.166667</td>\n",
       "      <td>0.235294</td>\n",
       "      <td>0.250000</td>\n",
       "      <td>0.373737</td>\n",
       "      <td>0.000000</td>\n",
       "      <td>0.407272</td>\n",
       "      <td>0.212067</td>\n",
       "      <td>0.389599</td>\n",
       "      <td>0.939855</td>\n",
       "      <td>0.464080</td>\n",
       "      <td>0.444251</td>\n",
       "      <td>0.328328</td>\n",
       "      <td>0.716425</td>\n",
       "      <td>0.724674</td>\n",
       "      <td>0.200000</td>\n",
       "      <td>0.322034</td>\n",
       "      <td>0.380952</td>\n",
       "      <td>0.312977</td>\n",
       "      <td>0.324496</td>\n",
       "      <td>0.460965</td>\n",
       "      <td>0.343586</td>\n",
       "      <td>1988</td>\n",
       "      <td>PIT</td>\n",
       "      <td>0</td>\n",
       "      <td>0</td>\n",
       "    </tr>\n",
       "  </tbody>\n",
       "</table>\n",
       "</div>"
      ],
      "text/plain": [
       "      complete_game  earned_runs       hbp  innings_pitched  hits_per_nine  \\\n",
       "36         0.270245     0.730438  0.841627         0.150262       0.450000   \n",
       "237        0.285714     0.211978  0.678188         0.779373       0.235294   \n",
       "360        0.684211     0.609211  0.562500         0.642218       0.727273   \n",
       "1012       0.503623     0.437285  0.614907         0.387744       0.263158   \n",
       "497        0.035833     0.368000  0.351220         0.519516       0.333333   \n",
       "\n",
       "      homeruns_pitching  hr_per_nine  left_on_base_pitching  pitcher_age  \\\n",
       "36             0.519329          0.5               0.333151     0.722222   \n",
       "237            0.357375          0.2               0.863929     0.615385   \n",
       "360            0.513158          0.4               0.746914     0.693548   \n",
       "1012           0.030474          0.2               0.475343     0.424242   \n",
       "497            0.384493          0.4               0.364728     0.000000   \n",
       "\n",
       "      runs_pitching  so_per_nine   so_walk  walks_per_nine      whip  \\\n",
       "36         0.684098     0.421053  0.289157        0.529412  0.569930   \n",
       "237        0.250369     0.863636  0.677083        0.428571  0.282759   \n",
       "360        0.474015     0.200000  0.208333        0.181818  0.543568   \n",
       "1012       0.405091     0.238095  0.151351        0.714286  0.407738   \n",
       "497        0.333202     0.166667  0.235294        0.250000  0.373737   \n",
       "\n",
       "      batter_age  runs_batting  hits_batting   doubles   triples  \\\n",
       "36      0.804878      0.049504      0.061853  0.229599  0.077055   \n",
       "237     0.720000      0.574443      0.418732  0.434074  0.883040   \n",
       "360     0.637931      0.851240      1.000000  0.884899  0.853659   \n",
       "1012    1.000000      0.255741      0.149331  0.360931  0.876587   \n",
       "497     0.000000      0.407272      0.212067  0.389599  0.939855   \n",
       "\n",
       "      homeruns_batting       rbi  stolen_base  walks_batting  \\\n",
       "36            0.326405  0.051080     0.574770       0.506555   \n",
       "237           0.443828  0.529331     0.991071       0.356554   \n",
       "360           0.576471  0.867257     0.346341       0.333054   \n",
       "1012          0.357254  0.259588     0.075879       0.368478   \n",
       "497           0.464080  0.444251     0.328328       0.716425   \n",
       "\n",
       "      strikeouts_batting  batting_average  on_base_percentage  slugging  \\\n",
       "36              0.567657         0.151515            0.304348  0.113636   \n",
       "237             0.908759         0.406250            0.472222  0.440476   \n",
       "360             0.000000         1.000000            0.804878  0.804348   \n",
       "1012            0.065077         0.125000            0.204082  0.373134   \n",
       "497             0.724674         0.200000            0.322034  0.380952   \n",
       "\n",
       "           ops  total_bases  left_on_base_batting       era  year team  \\\n",
       "36    0.182609     0.010324              0.402344  0.758701  1970  MIL   \n",
       "237   0.435897     0.436893              0.093465  0.190611  1978  PIT   \n",
       "360   0.823077     0.849192              0.571234  0.588593  1983  MIL   \n",
       "1012  0.227723     0.279370              0.231113  0.434153  2006  SFG   \n",
       "497   0.312977     0.324496              0.460965  0.343586  1988  PIT   \n",
       "\n",
       "      playoff_appearance  world_series  \n",
       "36                     0             0  \n",
       "237                    0             0  \n",
       "360                    0             0  \n",
       "1012                   0             0  \n",
       "497                    0             0  "
      ]
     },
     "execution_count": 21,
     "metadata": {},
     "output_type": "execute_result"
    }
   ],
   "source": [
    "## Preview the scaled data set\n",
    "\n",
    "df_scaled.sample(5)"
   ]
  },
  {
   "cell_type": "code",
   "execution_count": 22,
   "metadata": {},
   "outputs": [],
   "source": [
    "# Eliminate 2018 from the training and testing data; eliminate irrelevant variables\n",
    "\n",
    "df_features = df_scaled.copy()\n",
    "df_features = df_features.loc[df_scaled.year < 2018,:]\n",
    "df_features.drop(['year','team','playoff_appearance','world_series'], axis=1, inplace=True)\n",
    "\n",
    "df_targets = df_scaled.loc[df_scaled.loc[:,'year'] < 2018,'playoff_appearance']"
   ]
  },
  {
   "cell_type": "code",
   "execution_count": 23,
   "metadata": {},
   "outputs": [],
   "source": [
    "## Test for correlation in best model for k\n",
    "\n",
    "corr_matrix = df_features.loc[:,:].corr().abs()\n",
    "\n",
    "## Select upper triangle of correlation matrix\n",
    "\n",
    "upper = corr_matrix.where(np.triu(np.ones(corr_matrix.shape), k=1).astype(np.bool))\n",
    "\n",
    "## Find index of feature columns with correlation greater than 0.8\n",
    "\n",
    "to_drop = [column for column in upper.columns if any(upper[column] > 0.75)]\n",
    "\n",
    "df_features.drop(to_drop, axis=1, inplace=True)"
   ]
  },
  {
   "cell_type": "code",
   "execution_count": 24,
   "metadata": {},
   "outputs": [
    {
     "data": {
      "text/plain": [
       "(1348, 20)"
      ]
     },
     "execution_count": 24,
     "metadata": {},
     "output_type": "execute_result"
    }
   ],
   "source": [
    "## Print the shape of the new data frame\n",
    "\n",
    "df_features.shape"
   ]
  },
  {
   "cell_type": "code",
   "execution_count": 25,
   "metadata": {},
   "outputs": [],
   "source": [
    "## Split the data into training and test sets; stratify the data by the target variable due to unbalanced data set\n",
    "\n",
    "X_train, X_test, y_train, y_test = train_test_split(df_features, df_targets, random_state = 60, stratify=df_targets,\n",
    "                                                   train_size = 0.7, test_size=0.3)"
   ]
  },
  {
   "cell_type": "markdown",
   "metadata": {},
   "source": [
    "# Out of the box models"
   ]
  },
  {
   "cell_type": "code",
   "execution_count": 26,
   "metadata": {},
   "outputs": [
    {
     "name": "stdout",
     "output_type": "stream",
     "text": [
      "              precision    recall  f1-score   support\n",
      "\n",
      "           0       0.87      0.92      0.89       315\n",
      "           1       0.65      0.51      0.57        90\n",
      "\n",
      "   micro avg       0.83      0.83      0.83       405\n",
      "   macro avg       0.76      0.72      0.73       405\n",
      "weighted avg       0.82      0.83      0.82       405\n",
      "\n",
      "ROC AUC Score: 0.72\n"
     ]
    }
   ],
   "source": [
    "## Train the Logistic Regression model\n",
    "\n",
    "lr = LogisticRegression(solver='lbfgs')\n",
    "\n",
    "lr.fit(X_train, y_train)\n",
    "\n",
    "print(classification_report(y_test, lr.predict(X_test)))\n",
    "print('ROC AUC Score: %.2f' % roc_auc_score(y_test, lr.predict(X_test)))"
   ]
  },
  {
   "cell_type": "code",
   "execution_count": 27,
   "metadata": {},
   "outputs": [
    {
     "name": "stdout",
     "output_type": "stream",
     "text": [
      "              precision    recall  f1-score   support\n",
      "\n",
      "           0       0.84      0.93      0.89       315\n",
      "           1       0.62      0.40      0.49        90\n",
      "\n",
      "   micro avg       0.81      0.81      0.81       405\n",
      "   macro avg       0.73      0.67      0.69       405\n",
      "weighted avg       0.79      0.81      0.80       405\n",
      "\n",
      "ROC AUC Score: 0.67\n"
     ]
    }
   ],
   "source": [
    "## Train the Random Forest model\n",
    "\n",
    "rf = RandomForestClassifier(n_estimators=10)\n",
    "\n",
    "rf.fit(X_train, y_train)\n",
    "\n",
    "print(classification_report(y_test, rf.predict(X_test)))\n",
    "print('ROC AUC Score: %.2f' % roc_auc_score(y_test, rf.predict(X_test)))"
   ]
  },
  {
   "cell_type": "code",
   "execution_count": 28,
   "metadata": {},
   "outputs": [
    {
     "name": "stdout",
     "output_type": "stream",
     "text": [
      "              precision    recall  f1-score   support\n",
      "\n",
      "           0       0.85      0.92      0.88       315\n",
      "           1       0.61      0.42      0.50        90\n",
      "\n",
      "   micro avg       0.81      0.81      0.81       405\n",
      "   macro avg       0.73      0.67      0.69       405\n",
      "weighted avg       0.80      0.81      0.80       405\n",
      "\n",
      "ROC AUC Score: 0.67\n"
     ]
    }
   ],
   "source": [
    "## Train the K Neighbors Classifier model\n",
    "\n",
    "knc = KNeighborsClassifier()\n",
    "knc.fit(X_train, y_train)\n",
    "\n",
    "print(classification_report(y_test, knc.predict(X_test)))\n",
    "print('ROC AUC Score: %.2f' %roc_auc_score(y_test, knc.predict(X_test)))"
   ]
  },
  {
   "cell_type": "code",
   "execution_count": 29,
   "metadata": {},
   "outputs": [
    {
     "name": "stdout",
     "output_type": "stream",
     "text": [
      "              precision    recall  f1-score   support\n",
      "\n",
      "           0       0.87      0.92      0.89       315\n",
      "           1       0.64      0.50      0.56        90\n",
      "\n",
      "   micro avg       0.83      0.83      0.83       405\n",
      "   macro avg       0.75      0.71      0.73       405\n",
      "weighted avg       0.82      0.83      0.82       405\n",
      "\n",
      "ROC AUC Score: 0.71\n"
     ]
    }
   ],
   "source": [
    "## Train the SVC model\n",
    "\n",
    "svc = SVC(gamma = 'scale')\n",
    "\n",
    "svc.fit(X_train, y_train)\n",
    "\n",
    "print(classification_report(y_test, svc.predict(X_test)))\n",
    "print('ROC AUC Score: %.2f' % roc_auc_score(y_test, svc.predict(X_test)))"
   ]
  },
  {
   "cell_type": "code",
   "execution_count": 30,
   "metadata": {},
   "outputs": [
    {
     "name": "stdout",
     "output_type": "stream",
     "text": [
      "              precision    recall  f1-score   support\n",
      "\n",
      "           0       0.88      0.91      0.90       315\n",
      "           1       0.65      0.57      0.61        90\n",
      "\n",
      "   micro avg       0.84      0.84      0.84       405\n",
      "   macro avg       0.77      0.74      0.75       405\n",
      "weighted avg       0.83      0.84      0.83       405\n",
      "\n",
      "ROC AUC Score: 0.74\n"
     ]
    }
   ],
   "source": [
    "## Train the XGBoost Classifier model\n",
    "\n",
    "xgb = XGBClassifier()\n",
    "\n",
    "xgb.fit(X_train, y_train)\n",
    "\n",
    "print(classification_report(y_test, xgb.predict(X_test)))\n",
    "print('ROC AUC Score: %.2f' % roc_auc_score(y_test, xgb.predict(X_test)))"
   ]
  },
  {
   "cell_type": "markdown",
   "metadata": {},
   "source": [
    "# Tuned models"
   ]
  },
  {
   "cell_type": "code",
   "execution_count": 31,
   "metadata": {},
   "outputs": [],
   "source": [
    "# Set the hyperparameters for a Grid Search\n",
    "\n",
    "params_lr = {'penalty':['l2'], 'C':[0.33, 0.67, 1.0], 'random_state':[60], 'solver':['newton-cg', 'lbfgs', \n",
    "                                                                                        'liblinear', 'sag', 'saga']}\n",
    "params_rf = {'n_estimators':[10, 50, 100, 200, 300], 'criterion':['gini','entropy'], 'max_depth':[3, 5, 10, 20, None],\n",
    "            'min_samples_split':[2, 5, 7, 10, 15], 'random_state':[60]}\n",
    "\n",
    "params_knc = {'n_neighbors':[3, 5, 7, 9, 11], 'weights':['uniform', 'distance'], 'algorithm':['brute','auto','ball_tree'],\n",
    "             'metric':['euclidean','minkowski']}\n",
    "\n",
    "params_svc = {'C':[0.33, 0.67, 1.0], 'shrinking':[True, False], 'probability':[True, False], 'gamma':['scale','auto'],\n",
    "              'random_state':[60]}\n",
    "\n",
    "params_xgb = {'max_depth':[3, 5, 7], 'learning_rate':[0.03, 0.05, 0.07, 0.1, 0.13], 'n_estimators':[100, 150, 200, 250, 300],\n",
    "             'booster':['gbtree','dart'], 'random_state':[60]}"
   ]
  },
  {
   "cell_type": "code",
   "execution_count": 32,
   "metadata": {},
   "outputs": [
    {
     "data": {
      "text/plain": [
       "GridSearchCV(cv=5, error_score='raise-deprecating',\n",
       "       estimator=LogisticRegression(C=1.0, class_weight=None, dual=False, fit_intercept=True,\n",
       "          intercept_scaling=1, max_iter=100, multi_class='warn',\n",
       "          n_jobs=None, penalty='l2', random_state=None, solver='warn',\n",
       "          tol=0.0001, verbose=0, warm_start=False),\n",
       "       fit_params=None, iid='warn', n_jobs=None,\n",
       "       param_grid={'penalty': ['l2'], 'C': [0.33, 0.67, 1.0], 'random_state': [60], 'solver': ['newton-cg', 'lbfgs', 'liblinear', 'sag', 'saga']},\n",
       "       pre_dispatch='2*n_jobs', refit=True, return_train_score='warn',\n",
       "       scoring=None, verbose=0)"
      ]
     },
     "execution_count": 32,
     "metadata": {},
     "output_type": "execute_result"
    }
   ],
   "source": [
    "## Import Grid Search and apply it to Logistic Regression\n",
    "\n",
    "from sklearn.model_selection import GridSearchCV\n",
    "\n",
    "gs_lr = GridSearchCV(LogisticRegression(), params_lr, cv = 5)\n",
    "\n",
    "gs_lr.fit(X_train, y_train)"
   ]
  },
  {
   "cell_type": "code",
   "execution_count": 33,
   "metadata": {},
   "outputs": [
    {
     "name": "stdout",
     "output_type": "stream",
     "text": [
      "              precision    recall  f1-score   support\n",
      "\n",
      "           0       0.87      0.92      0.89       315\n",
      "           1       0.65      0.51      0.57        90\n",
      "\n",
      "   micro avg       0.83      0.83      0.83       405\n",
      "   macro avg       0.76      0.72      0.73       405\n",
      "weighted avg       0.82      0.83      0.82       405\n",
      "\n",
      "ROC AUC Score: 0.72\n"
     ]
    }
   ],
   "source": [
    "print(classification_report(y_test, gs_lr.best_estimator_.predict(X_test)))\n",
    "print('ROC AUC Score: %.2f' % roc_auc_score(y_test, gs_lr.predict(X_test)))"
   ]
  },
  {
   "cell_type": "code",
   "execution_count": 34,
   "metadata": {},
   "outputs": [
    {
     "data": {
      "text/plain": [
       "GridSearchCV(cv=5, error_score='raise-deprecating',\n",
       "       estimator=RandomForestClassifier(bootstrap=True, class_weight=None, criterion='gini',\n",
       "            max_depth=None, max_features='auto', max_leaf_nodes=None,\n",
       "            min_impurity_decrease=0.0, min_impurity_split=None,\n",
       "            min_samples_leaf=1, min_samples_split=2,\n",
       "            min_weight_fraction_leaf=0.0, n_estimators='warn', n_jobs=None,\n",
       "            oob_score=False, random_state=None, verbose=0,\n",
       "            warm_start=False),\n",
       "       fit_params=None, iid='warn', n_jobs=None,\n",
       "       param_grid={'n_estimators': [10, 50, 100, 200, 300], 'criterion': ['gini', 'entropy'], 'max_depth': [3, 5, 10, 20, None], 'min_samples_split': [2, 5, 7, 10, 15], 'random_state': [60]},\n",
       "       pre_dispatch='2*n_jobs', refit=True, return_train_score='warn',\n",
       "       scoring=None, verbose=0)"
      ]
     },
     "execution_count": 34,
     "metadata": {},
     "output_type": "execute_result"
    }
   ],
   "source": [
    "## Apply Grid Search to Random Forest\n",
    "\n",
    "gs_rf = GridSearchCV(RandomForestClassifier(), params_rf, cv = 5)\n",
    "\n",
    "gs_rf.fit(X_train, y_train)"
   ]
  },
  {
   "cell_type": "code",
   "execution_count": 35,
   "metadata": {},
   "outputs": [
    {
     "name": "stdout",
     "output_type": "stream",
     "text": [
      "{'criterion': 'gini', 'max_depth': 20, 'min_samples_split': 10, 'n_estimators': 200, 'random_state': 60}\n",
      "\n",
      "\n",
      "              precision    recall  f1-score   support\n",
      "\n",
      "           0       0.87      0.94      0.90       315\n",
      "           1       0.70      0.50      0.58        90\n",
      "\n",
      "   micro avg       0.84      0.84      0.84       405\n",
      "   macro avg       0.79      0.72      0.74       405\n",
      "weighted avg       0.83      0.84      0.83       405\n",
      "\n",
      "\n",
      "\n",
      "ROC AUC Score: 0.72\n"
     ]
    }
   ],
   "source": [
    "print(gs_rf.best_params_)\n",
    "print('\\n')\n",
    "print(classification_report(y_test, gs_rf.best_estimator_.predict(X_test)))\n",
    "print('\\n')\n",
    "print('ROC AUC Score: %.2f' % roc_auc_score(y_test, gs_rf.best_estimator_.predict(X_test)))"
   ]
  },
  {
   "cell_type": "code",
   "execution_count": 36,
   "metadata": {},
   "outputs": [
    {
     "data": {
      "text/plain": [
       "GridSearchCV(cv=5, error_score='raise-deprecating',\n",
       "       estimator=KNeighborsClassifier(algorithm='auto', leaf_size=30, metric='minkowski',\n",
       "           metric_params=None, n_jobs=None, n_neighbors=5, p=2,\n",
       "           weights='uniform'),\n",
       "       fit_params=None, iid='warn', n_jobs=None,\n",
       "       param_grid={'n_neighbors': [3, 5, 7, 9, 11], 'weights': ['uniform', 'distance'], 'algorithm': ['brute', 'auto', 'ball_tree'], 'metric': ['euclidean', 'minkowski']},\n",
       "       pre_dispatch='2*n_jobs', refit=True, return_train_score='warn',\n",
       "       scoring=None, verbose=0)"
      ]
     },
     "execution_count": 36,
     "metadata": {},
     "output_type": "execute_result"
    }
   ],
   "source": [
    "## Apply Grid Search to KNeighbors Classifier\n",
    "\n",
    "gs_knc = GridSearchCV(KNeighborsClassifier(), params_knc, cv = 5)\n",
    "\n",
    "gs_knc.fit(X_train, y_train)"
   ]
  },
  {
   "cell_type": "code",
   "execution_count": 37,
   "metadata": {},
   "outputs": [
    {
     "name": "stdout",
     "output_type": "stream",
     "text": [
      "{'algorithm': 'brute', 'metric': 'euclidean', 'n_neighbors': 7, 'weights': 'uniform'}\n",
      "\n",
      "\n",
      "              precision    recall  f1-score   support\n",
      "\n",
      "           0       0.85      0.92      0.89       315\n",
      "           1       0.62      0.43      0.51        90\n",
      "\n",
      "   micro avg       0.81      0.81      0.81       405\n",
      "   macro avg       0.73      0.68      0.70       405\n",
      "weighted avg       0.80      0.81      0.80       405\n",
      "\n",
      "\n",
      "\n",
      "ROC AUC Score: 0.68\n"
     ]
    }
   ],
   "source": [
    "print(gs_knc.best_params_)\n",
    "print('\\n')\n",
    "print(classification_report(y_test, gs_knc.best_estimator_.predict(X_test)))\n",
    "print('\\n')\n",
    "print('ROC AUC Score: %.2f' % roc_auc_score(y_test, gs_knc.best_estimator_.predict(X_test)))"
   ]
  },
  {
   "cell_type": "code",
   "execution_count": 38,
   "metadata": {},
   "outputs": [
    {
     "data": {
      "text/plain": [
       "GridSearchCV(cv=5, error_score='raise-deprecating',\n",
       "       estimator=SVC(C=1.0, cache_size=200, class_weight=None, coef0=0.0,\n",
       "  decision_function_shape='ovr', degree=3, gamma='auto_deprecated',\n",
       "  kernel='rbf', max_iter=-1, probability=False, random_state=None,\n",
       "  shrinking=True, tol=0.001, verbose=False),\n",
       "       fit_params=None, iid='warn', n_jobs=None,\n",
       "       param_grid={'C': [0.33, 0.67, 1.0], 'shrinking': [True, False], 'probability': [True, False], 'gamma': ['scale', 'auto'], 'random_state': [60]},\n",
       "       pre_dispatch='2*n_jobs', refit=True, return_train_score='warn',\n",
       "       scoring=None, verbose=0)"
      ]
     },
     "execution_count": 38,
     "metadata": {},
     "output_type": "execute_result"
    }
   ],
   "source": [
    "## Apply Grid Search to SVC\n",
    "\n",
    "gs_svc = GridSearchCV(SVC(), params_svc, cv = 5)\n",
    "\n",
    "gs_svc.fit(X_train, y_train)"
   ]
  },
  {
   "cell_type": "code",
   "execution_count": 39,
   "metadata": {},
   "outputs": [
    {
     "name": "stdout",
     "output_type": "stream",
     "text": [
      "{'C': 1.0, 'gamma': 'scale', 'probability': True, 'random_state': 60, 'shrinking': True}\n",
      "\n",
      "\n",
      "              precision    recall  f1-score   support\n",
      "\n",
      "           0       0.87      0.92      0.89       315\n",
      "           1       0.64      0.50      0.56        90\n",
      "\n",
      "   micro avg       0.83      0.83      0.83       405\n",
      "   macro avg       0.75      0.71      0.73       405\n",
      "weighted avg       0.82      0.83      0.82       405\n",
      "\n",
      "\n",
      "\n",
      "ROC AUC Score: 0.71\n"
     ]
    }
   ],
   "source": [
    "print(gs_svc.best_params_)\n",
    "print('\\n')\n",
    "print(classification_report(y_test, gs_svc.best_estimator_.predict(X_test)))\n",
    "print('\\n')\n",
    "print('ROC AUC Score: %.2f' % roc_auc_score(y_test, gs_svc.best_estimator_.predict(X_test)))"
   ]
  },
  {
   "cell_type": "code",
   "execution_count": 41,
   "metadata": {},
   "outputs": [
    {
     "data": {
      "text/plain": [
       "GridSearchCV(cv=5, error_score='raise-deprecating',\n",
       "       estimator=XGBClassifier(base_score=0.5, booster='gbtree', colsample_bylevel=1,\n",
       "       colsample_bytree=1, gamma=0, learning_rate=0.1, max_delta_step=0,\n",
       "       max_depth=3, min_child_weight=1, missing=None, n_estimators=100,\n",
       "       n_jobs=1, nthread=None, objective='binary:logistic', random_state=0,\n",
       "       reg_alpha=0, reg_lambda=1, scale_pos_weight=1, seed=None,\n",
       "       silent=True, subsample=1),\n",
       "       fit_params=None, iid='warn', n_jobs=None,\n",
       "       param_grid={'max_depth': [3, 5, 7], 'learning_rate': [0.03, 0.05, 0.07, 0.1, 0.13], 'n_estimators': [100, 150, 200, 250, 300], 'booster': ['gbtree', 'dart'], 'random_state': [60]},\n",
       "       pre_dispatch='2*n_jobs', refit=True, return_train_score='warn',\n",
       "       scoring=None, verbose=0)"
      ]
     },
     "execution_count": 41,
     "metadata": {},
     "output_type": "execute_result"
    }
   ],
   "source": [
    "## Apply Grid Search to XGBoost Classifier\n",
    "\n",
    "gs_xgb = GridSearchCV(XGBClassifier(), params_xgb, cv = 5)\n",
    "\n",
    "gs_xgb.fit(X_train, y_train)"
   ]
  },
  {
   "cell_type": "code",
   "execution_count": 42,
   "metadata": {},
   "outputs": [
    {
     "name": "stdout",
     "output_type": "stream",
     "text": [
      "{'booster': 'gbtree', 'learning_rate': 0.05, 'max_depth': 7, 'n_estimators': 250, 'random_state': 60}\n",
      "\n",
      "\n",
      "              precision    recall  f1-score   support\n",
      "\n",
      "           0       0.88      0.91      0.89       315\n",
      "           1       0.64      0.54      0.59        90\n",
      "\n",
      "   micro avg       0.83      0.83      0.83       405\n",
      "   macro avg       0.76      0.73      0.74       405\n",
      "weighted avg       0.82      0.83      0.82       405\n",
      "\n",
      "\n",
      "\n",
      "ROC AUC Score: 0.73\n"
     ]
    }
   ],
   "source": [
    "print(gs_xgb.best_params_)\n",
    "print('\\n')\n",
    "print(classification_report(y_test, gs_xgb.best_estimator_.predict(X_test)))\n",
    "print('\\n')\n",
    "print('ROC AUC Score: %.2f' % roc_auc_score(y_test, gs_xgb.best_estimator_.predict(X_test)))"
   ]
  },
  {
   "cell_type": "markdown",
   "metadata": {},
   "source": [
    "# Voting Classifier"
   ]
  },
  {
   "cell_type": "code",
   "execution_count": 43,
   "metadata": {},
   "outputs": [
    {
     "data": {
      "text/plain": [
       "VotingClassifier(estimators=[('lr', LogisticRegression(C=1.0, class_weight=None, dual=False, fit_intercept=True,\n",
       "          intercept_scaling=1, max_iter=100, multi_class='warn',\n",
       "          n_jobs=None, penalty='l2', random_state=60, solver='newton-cg',\n",
       "          tol=0.0001, verbose=0, warm_start=False)), ('rf', Rando...ate=60, reg_alpha=0, reg_lambda=1, scale_pos_weight=1,\n",
       "       seed=None, silent=True, subsample=1))],\n",
       "         flatten_transform=None, n_jobs=None, voting='hard', weights=None)"
      ]
     },
     "execution_count": 43,
     "metadata": {},
     "output_type": "execute_result"
    }
   ],
   "source": [
    "## Import Voting Classifier and fit with tuned models\n",
    "\n",
    "from sklearn.ensemble import VotingClassifier\n",
    "\n",
    "vc = VotingClassifier(estimators = [('lr', gs_lr.best_estimator_), ('rf', gs_rf.best_estimator_), \n",
    "                                      ('knc', gs_knc.best_estimator_), ('svc', gs_svc.best_estimator_), \n",
    "                                      ('xgb', gs_xgb.best_estimator_)])\n",
    "\n",
    "vc.fit(X_train, y_train)"
   ]
  },
  {
   "cell_type": "code",
   "execution_count": 44,
   "metadata": {},
   "outputs": [
    {
     "name": "stdout",
     "output_type": "stream",
     "text": [
      "              precision    recall  f1-score   support\n",
      "\n",
      "           0       0.87      0.93      0.90       315\n",
      "           1       0.66      0.50      0.57        90\n",
      "\n",
      "   micro avg       0.83      0.83      0.83       405\n",
      "   macro avg       0.76      0.71      0.73       405\n",
      "weighted avg       0.82      0.83      0.82       405\n",
      "\n",
      "\n",
      "\n",
      "ROC AUC Score: 0.71\n"
     ]
    }
   ],
   "source": [
    "print(classification_report(y_test, vc.predict(X_test)))\n",
    "print('\\n')\n",
    "print('ROC AUC Score: %.2f' % roc_auc_score(y_test, vc.predict(X_test)))"
   ]
  },
  {
   "cell_type": "markdown",
   "metadata": {},
   "source": [
    "# 2018 Predictions"
   ]
  },
  {
   "cell_type": "code",
   "execution_count": 45,
   "metadata": {},
   "outputs": [
    {
     "name": "stdout",
     "output_type": "stream",
     "text": [
      "A naive model that randomly assigned playoff teams would be accurate in 0.22 of its predictions\n",
      "\n",
      "\n",
      "In 2018, we would expect that a randomly assigned model would be accurate in 0.33 of its predictions\n"
     ]
    }
   ],
   "source": [
    "print('A naive model that randomly assigned playoff teams would be accurate in %.2f of its predictions' \\\n",
    "      % (df_all.playoffs.sum() / len(df_all)))\n",
    "\n",
    "print('\\n')\n",
    "\n",
    "print('In 2018, we would expect that a randomly assigned model would be accurate in %.2f of its predictions' \\\n",
    "     % (df_all[df_all.year == 2018]['playoffs'].sum() / len(df_all[df_all.year == 2018])))"
   ]
  },
  {
   "cell_type": "code",
   "execution_count": 47,
   "metadata": {},
   "outputs": [],
   "source": [
    "# Create 2018 feature and target variables\n",
    "\n",
    "features_2018 = df_scaled.loc[df_scaled.year == 2018,:]\n",
    "feature_cols = [col for col in features_2018 if col in df_features.columns]\n",
    "features_2018 = features_2018[feature_cols]\n",
    "\n",
    "targets_2018 = df_scaled[df_scaled.year == 2018]['playoff_appearance']"
   ]
  },
  {
   "cell_type": "code",
   "execution_count": 48,
   "metadata": {},
   "outputs": [
    {
     "name": "stdout",
     "output_type": "stream",
     "text": [
      "              precision    recall  f1-score   support\n",
      "\n",
      "           0       0.83      1.00      0.91        20\n",
      "           1       1.00      0.60      0.75        10\n",
      "\n",
      "   micro avg       0.87      0.87      0.87        30\n",
      "   macro avg       0.92      0.80      0.83        30\n",
      "weighted avg       0.89      0.87      0.86        30\n",
      "\n"
     ]
    }
   ],
   "source": [
    "## Test the tuned Logistic Regression model on the 2018 data\n",
    "\n",
    "preds_2018_lr = gs_lr.best_estimator_.predict(features_2018)\n",
    "\n",
    "print(classification_report(targets_2018, preds_2018_lr))"
   ]
  },
  {
   "cell_type": "code",
   "execution_count": 49,
   "metadata": {},
   "outputs": [
    {
     "name": "stdout",
     "output_type": "stream",
     "text": [
      "              precision    recall  f1-score   support\n",
      "\n",
      "           0       0.83      1.00      0.91        20\n",
      "           1       1.00      0.60      0.75        10\n",
      "\n",
      "   micro avg       0.87      0.87      0.87        30\n",
      "   macro avg       0.92      0.80      0.83        30\n",
      "weighted avg       0.89      0.87      0.86        30\n",
      "\n"
     ]
    }
   ],
   "source": [
    "## Test the tuned Random Forest model on the 2018 data\n",
    "\n",
    "preds_2018_rf = gs_rf.best_estimator_.predict(features_2018)\n",
    "\n",
    "print(classification_report(targets_2018, preds_2018_rf))"
   ]
  },
  {
   "cell_type": "code",
   "execution_count": 50,
   "metadata": {},
   "outputs": [
    {
     "name": "stdout",
     "output_type": "stream",
     "text": [
      "              precision    recall  f1-score   support\n",
      "\n",
      "           0       0.83      1.00      0.91        20\n",
      "           1       1.00      0.60      0.75        10\n",
      "\n",
      "   micro avg       0.87      0.87      0.87        30\n",
      "   macro avg       0.92      0.80      0.83        30\n",
      "weighted avg       0.89      0.87      0.86        30\n",
      "\n"
     ]
    }
   ],
   "source": [
    "## Test the tuned K Neighbors model on the 2018 data\n",
    "\n",
    "preds_2018_knc = gs_knc.best_estimator_.predict(features_2018)\n",
    "\n",
    "print(classification_report(targets_2018, preds_2018_knc))"
   ]
  },
  {
   "cell_type": "code",
   "execution_count": 51,
   "metadata": {},
   "outputs": [
    {
     "name": "stdout",
     "output_type": "stream",
     "text": [
      "   team  playoffs  predictions\n",
      "0   ARI         0            0\n",
      "1   ATL         1            0\n",
      "2   BAL         0            0\n",
      "3   BOS         1            1\n",
      "4   CHC         1            0\n",
      "5   CHW         0            0\n",
      "6   CIN         0            0\n",
      "7   CLE         1            1\n",
      "8   COL         1            0\n",
      "9   DET         0            0\n",
      "10  HOU         1            1\n",
      "11  KCR         0            0\n",
      "12  LAA         0            0\n",
      "13  LAD         1            1\n",
      "14  MIA         0            0\n",
      "15  MIL         1            1\n",
      "16  MIN         0            0\n",
      "17  NYM         0            0\n",
      "18  NYY         1            0\n",
      "19  OAK         1            1\n",
      "20  PHI         0            0\n",
      "21  PIT         0            0\n",
      "22  SDP         0            0\n",
      "23  SEA         0            0\n",
      "24  SFG         0            0\n",
      "25  STL         0            0\n",
      "26  TBR         0            0\n",
      "27  TEX         0            0\n",
      "28  TOR         0            0\n",
      "29  WSN         0            0\n"
     ]
    }
   ],
   "source": [
    "## Example team predictions for 2018 data from the KNeighbors Classifier model\n",
    "\n",
    "knc_preds = pd.DataFrame()\n",
    "knc_preds['predictions'] = preds_2018_knc\n",
    "knc_preds['team'] = df_scaled[df_scaled.year == 2018]['team'].values\n",
    "knc_preds['playoffs'] = df_scaled[df_scaled.year == 2018]['playoff_appearance'].values\n",
    "knc_preds = knc_preds[['team','playoffs','predictions']]\n",
    "\n",
    "print(knc_preds)"
   ]
  },
  {
   "cell_type": "code",
   "execution_count": 52,
   "metadata": {},
   "outputs": [
    {
     "name": "stdout",
     "output_type": "stream",
     "text": [
      "              precision    recall  f1-score   support\n",
      "\n",
      "           0       0.83      1.00      0.91        20\n",
      "           1       1.00      0.60      0.75        10\n",
      "\n",
      "   micro avg       0.87      0.87      0.87        30\n",
      "   macro avg       0.92      0.80      0.83        30\n",
      "weighted avg       0.89      0.87      0.86        30\n",
      "\n"
     ]
    }
   ],
   "source": [
    "## Test the tuned SVC model on the 2018 data\n",
    "\n",
    "preds_2018_svc = gs_svc.best_estimator_.predict(features_2018)\n",
    "\n",
    "print(classification_report(targets_2018, preds_2018_svc))"
   ]
  },
  {
   "cell_type": "code",
   "execution_count": 53,
   "metadata": {},
   "outputs": [
    {
     "name": "stdout",
     "output_type": "stream",
     "text": [
      "              precision    recall  f1-score   support\n",
      "\n",
      "           0       0.91      1.00      0.95        20\n",
      "           1       1.00      0.80      0.89        10\n",
      "\n",
      "   micro avg       0.93      0.93      0.93        30\n",
      "   macro avg       0.95      0.90      0.92        30\n",
      "weighted avg       0.94      0.93      0.93        30\n",
      "\n"
     ]
    }
   ],
   "source": [
    "## Test the tuned XGBoost Classifier model on the 2018 data\n",
    "\n",
    "preds_2018_xgb = gs_xgb.best_estimator_.predict(features_2018)\n",
    "\n",
    "print(classification_report(targets_2018, preds_2018_xgb))"
   ]
  },
  {
   "cell_type": "code",
   "execution_count": 54,
   "metadata": {},
   "outputs": [
    {
     "name": "stdout",
     "output_type": "stream",
     "text": [
      "              precision    recall  f1-score   support\n",
      "\n",
      "           0       0.83      1.00      0.91        20\n",
      "           1       1.00      0.60      0.75        10\n",
      "\n",
      "   micro avg       0.87      0.87      0.87        30\n",
      "   macro avg       0.92      0.80      0.83        30\n",
      "weighted avg       0.89      0.87      0.86        30\n",
      "\n"
     ]
    }
   ],
   "source": [
    "## Test the tuned Voting Classifier model on the 2018 data\n",
    "\n",
    "preds_2018_vc = vc.predict(features_2018)\n",
    "\n",
    "print(classification_report(targets_2018, preds_2018_vc))"
   ]
  },
  {
   "cell_type": "markdown",
   "metadata": {},
   "source": [
    "# Predictions with Probability"
   ]
  },
  {
   "cell_type": "code",
   "execution_count": 55,
   "metadata": {},
   "outputs": [],
   "source": [
    "## Initiate a data frame with the predicted probabilities from the best performing model\n",
    "\n",
    "xgb_proba = pd.DataFrame(gs_xgb.predict_proba(features_2018)[:,1])\n",
    "xgb_proba.columns=['Probability']"
   ]
  },
  {
   "cell_type": "code",
   "execution_count": 56,
   "metadata": {},
   "outputs": [],
   "source": [
    "## Add the target variable and mark the top 10 predicted playoff teams with a 1\n",
    "\n",
    "xgb_proba['target'] = targets_2018.values\n",
    "xgb_proba['top_preds'] = np.where(xgb_proba['Probability'] >= xgb_proba['Probability'].sort_values(ascending=False).\\\n",
    "                                  reset_index(drop=True)[9], 1, 0)"
   ]
  },
  {
   "cell_type": "code",
   "execution_count": 57,
   "metadata": {},
   "outputs": [],
   "source": [
    "## Add the team variable\n",
    "\n",
    "xgb_proba['team'] = df_scaled[df_scaled.year == 2018]['team'].values"
   ]
  },
  {
   "cell_type": "code",
   "execution_count": 58,
   "metadata": {},
   "outputs": [
    {
     "name": "stdout",
     "output_type": "stream",
     "text": [
      "    Probability  target  top_preds team\n",
      "0      0.012478       0          0  ARI\n",
      "1      0.609827       1          1  ATL\n",
      "2      0.000321       0          0  BAL\n",
      "3      0.838941       1          1  BOS\n",
      "4      0.631968       1          1  CHC\n",
      "5      0.000805       0          0  CHW\n",
      "6      0.000753       0          0  CIN\n",
      "7      0.768078       1          1  CLE\n",
      "8      0.103153       1          0  COL\n",
      "9      0.000852       0          0  DET\n",
      "10     0.980935       1          1  HOU\n",
      "11     0.000915       0          0  KCR\n",
      "12     0.005764       0          0  LAA\n",
      "13     0.997577       1          1  LAD\n",
      "14     0.000458       0          0  MIA\n",
      "15     0.064746       1          0  MIL\n",
      "16     0.002214       0          0  MIN\n",
      "17     0.001138       0          0  NYM\n",
      "18     0.952370       1          1  NYY\n",
      "19     0.956796       1          1  OAK\n",
      "20     0.000744       0          0  PHI\n",
      "21     0.001546       0          0  PIT\n",
      "22     0.001011       0          0  SDP\n",
      "23     0.009526       0          0  SEA\n",
      "24     0.001844       0          0  SFG\n",
      "25     0.493751       0          1  STL\n",
      "26     0.027321       0          0  TBR\n",
      "27     0.000780       0          0  TEX\n",
      "28     0.000975       0          0  TOR\n",
      "29     0.105656       0          1  WSN\n"
     ]
    }
   ],
   "source": [
    "print(xgb_proba)"
   ]
  },
  {
   "cell_type": "code",
   "execution_count": 59,
   "metadata": {},
   "outputs": [
    {
     "data": {
      "text/html": [
       "<div>\n",
       "<style scoped>\n",
       "    .dataframe tbody tr th:only-of-type {\n",
       "        vertical-align: middle;\n",
       "    }\n",
       "\n",
       "    .dataframe tbody tr th {\n",
       "        vertical-align: top;\n",
       "    }\n",
       "\n",
       "    .dataframe thead th {\n",
       "        text-align: right;\n",
       "    }\n",
       "</style>\n",
       "<table border=\"1\" class=\"dataframe\">\n",
       "  <thead>\n",
       "    <tr style=\"text-align: right;\">\n",
       "      <th></th>\n",
       "      <th>Probability</th>\n",
       "      <th>target</th>\n",
       "      <th>top_preds</th>\n",
       "      <th>team</th>\n",
       "    </tr>\n",
       "  </thead>\n",
       "  <tbody>\n",
       "    <tr>\n",
       "      <th>13</th>\n",
       "      <td>0.997577</td>\n",
       "      <td>1</td>\n",
       "      <td>1</td>\n",
       "      <td>LAD</td>\n",
       "    </tr>\n",
       "    <tr>\n",
       "      <th>10</th>\n",
       "      <td>0.980935</td>\n",
       "      <td>1</td>\n",
       "      <td>1</td>\n",
       "      <td>HOU</td>\n",
       "    </tr>\n",
       "    <tr>\n",
       "      <th>19</th>\n",
       "      <td>0.956796</td>\n",
       "      <td>1</td>\n",
       "      <td>1</td>\n",
       "      <td>OAK</td>\n",
       "    </tr>\n",
       "    <tr>\n",
       "      <th>18</th>\n",
       "      <td>0.952370</td>\n",
       "      <td>1</td>\n",
       "      <td>1</td>\n",
       "      <td>NYY</td>\n",
       "    </tr>\n",
       "    <tr>\n",
       "      <th>3</th>\n",
       "      <td>0.838941</td>\n",
       "      <td>1</td>\n",
       "      <td>1</td>\n",
       "      <td>BOS</td>\n",
       "    </tr>\n",
       "    <tr>\n",
       "      <th>7</th>\n",
       "      <td>0.768078</td>\n",
       "      <td>1</td>\n",
       "      <td>1</td>\n",
       "      <td>CLE</td>\n",
       "    </tr>\n",
       "    <tr>\n",
       "      <th>4</th>\n",
       "      <td>0.631968</td>\n",
       "      <td>1</td>\n",
       "      <td>1</td>\n",
       "      <td>CHC</td>\n",
       "    </tr>\n",
       "    <tr>\n",
       "      <th>1</th>\n",
       "      <td>0.609827</td>\n",
       "      <td>1</td>\n",
       "      <td>1</td>\n",
       "      <td>ATL</td>\n",
       "    </tr>\n",
       "    <tr>\n",
       "      <th>25</th>\n",
       "      <td>0.493751</td>\n",
       "      <td>0</td>\n",
       "      <td>1</td>\n",
       "      <td>STL</td>\n",
       "    </tr>\n",
       "    <tr>\n",
       "      <th>29</th>\n",
       "      <td>0.105656</td>\n",
       "      <td>0</td>\n",
       "      <td>1</td>\n",
       "      <td>WSN</td>\n",
       "    </tr>\n",
       "    <tr>\n",
       "      <th>8</th>\n",
       "      <td>0.103153</td>\n",
       "      <td>1</td>\n",
       "      <td>0</td>\n",
       "      <td>COL</td>\n",
       "    </tr>\n",
       "    <tr>\n",
       "      <th>15</th>\n",
       "      <td>0.064746</td>\n",
       "      <td>1</td>\n",
       "      <td>0</td>\n",
       "      <td>MIL</td>\n",
       "    </tr>\n",
       "    <tr>\n",
       "      <th>26</th>\n",
       "      <td>0.027321</td>\n",
       "      <td>0</td>\n",
       "      <td>0</td>\n",
       "      <td>TBR</td>\n",
       "    </tr>\n",
       "    <tr>\n",
       "      <th>0</th>\n",
       "      <td>0.012478</td>\n",
       "      <td>0</td>\n",
       "      <td>0</td>\n",
       "      <td>ARI</td>\n",
       "    </tr>\n",
       "    <tr>\n",
       "      <th>23</th>\n",
       "      <td>0.009526</td>\n",
       "      <td>0</td>\n",
       "      <td>0</td>\n",
       "      <td>SEA</td>\n",
       "    </tr>\n",
       "    <tr>\n",
       "      <th>12</th>\n",
       "      <td>0.005764</td>\n",
       "      <td>0</td>\n",
       "      <td>0</td>\n",
       "      <td>LAA</td>\n",
       "    </tr>\n",
       "    <tr>\n",
       "      <th>16</th>\n",
       "      <td>0.002214</td>\n",
       "      <td>0</td>\n",
       "      <td>0</td>\n",
       "      <td>MIN</td>\n",
       "    </tr>\n",
       "    <tr>\n",
       "      <th>24</th>\n",
       "      <td>0.001844</td>\n",
       "      <td>0</td>\n",
       "      <td>0</td>\n",
       "      <td>SFG</td>\n",
       "    </tr>\n",
       "    <tr>\n",
       "      <th>21</th>\n",
       "      <td>0.001546</td>\n",
       "      <td>0</td>\n",
       "      <td>0</td>\n",
       "      <td>PIT</td>\n",
       "    </tr>\n",
       "    <tr>\n",
       "      <th>17</th>\n",
       "      <td>0.001138</td>\n",
       "      <td>0</td>\n",
       "      <td>0</td>\n",
       "      <td>NYM</td>\n",
       "    </tr>\n",
       "    <tr>\n",
       "      <th>22</th>\n",
       "      <td>0.001011</td>\n",
       "      <td>0</td>\n",
       "      <td>0</td>\n",
       "      <td>SDP</td>\n",
       "    </tr>\n",
       "    <tr>\n",
       "      <th>28</th>\n",
       "      <td>0.000975</td>\n",
       "      <td>0</td>\n",
       "      <td>0</td>\n",
       "      <td>TOR</td>\n",
       "    </tr>\n",
       "    <tr>\n",
       "      <th>11</th>\n",
       "      <td>0.000915</td>\n",
       "      <td>0</td>\n",
       "      <td>0</td>\n",
       "      <td>KCR</td>\n",
       "    </tr>\n",
       "    <tr>\n",
       "      <th>9</th>\n",
       "      <td>0.000852</td>\n",
       "      <td>0</td>\n",
       "      <td>0</td>\n",
       "      <td>DET</td>\n",
       "    </tr>\n",
       "    <tr>\n",
       "      <th>5</th>\n",
       "      <td>0.000805</td>\n",
       "      <td>0</td>\n",
       "      <td>0</td>\n",
       "      <td>CHW</td>\n",
       "    </tr>\n",
       "    <tr>\n",
       "      <th>27</th>\n",
       "      <td>0.000780</td>\n",
       "      <td>0</td>\n",
       "      <td>0</td>\n",
       "      <td>TEX</td>\n",
       "    </tr>\n",
       "    <tr>\n",
       "      <th>6</th>\n",
       "      <td>0.000753</td>\n",
       "      <td>0</td>\n",
       "      <td>0</td>\n",
       "      <td>CIN</td>\n",
       "    </tr>\n",
       "    <tr>\n",
       "      <th>20</th>\n",
       "      <td>0.000744</td>\n",
       "      <td>0</td>\n",
       "      <td>0</td>\n",
       "      <td>PHI</td>\n",
       "    </tr>\n",
       "    <tr>\n",
       "      <th>14</th>\n",
       "      <td>0.000458</td>\n",
       "      <td>0</td>\n",
       "      <td>0</td>\n",
       "      <td>MIA</td>\n",
       "    </tr>\n",
       "    <tr>\n",
       "      <th>2</th>\n",
       "      <td>0.000321</td>\n",
       "      <td>0</td>\n",
       "      <td>0</td>\n",
       "      <td>BAL</td>\n",
       "    </tr>\n",
       "  </tbody>\n",
       "</table>\n",
       "</div>"
      ],
      "text/plain": [
       "    Probability  target  top_preds team\n",
       "13     0.997577       1          1  LAD\n",
       "10     0.980935       1          1  HOU\n",
       "19     0.956796       1          1  OAK\n",
       "18     0.952370       1          1  NYY\n",
       "3      0.838941       1          1  BOS\n",
       "7      0.768078       1          1  CLE\n",
       "4      0.631968       1          1  CHC\n",
       "1      0.609827       1          1  ATL\n",
       "25     0.493751       0          1  STL\n",
       "29     0.105656       0          1  WSN\n",
       "8      0.103153       1          0  COL\n",
       "15     0.064746       1          0  MIL\n",
       "26     0.027321       0          0  TBR\n",
       "0      0.012478       0          0  ARI\n",
       "23     0.009526       0          0  SEA\n",
       "12     0.005764       0          0  LAA\n",
       "16     0.002214       0          0  MIN\n",
       "24     0.001844       0          0  SFG\n",
       "21     0.001546       0          0  PIT\n",
       "17     0.001138       0          0  NYM\n",
       "22     0.001011       0          0  SDP\n",
       "28     0.000975       0          0  TOR\n",
       "11     0.000915       0          0  KCR\n",
       "9      0.000852       0          0  DET\n",
       "5      0.000805       0          0  CHW\n",
       "27     0.000780       0          0  TEX\n",
       "6      0.000753       0          0  CIN\n",
       "20     0.000744       0          0  PHI\n",
       "14     0.000458       0          0  MIA\n",
       "2      0.000321       0          0  BAL"
      ]
     },
     "execution_count": 59,
     "metadata": {},
     "output_type": "execute_result"
    }
   ],
   "source": [
    "xgb_proba.sort_values(by='Probability', ascending=False)"
   ]
  },
  {
   "cell_type": "code",
   "execution_count": 60,
   "metadata": {},
   "outputs": [
    {
     "data": {
      "image/png": "[encoded data removed]",
      "text/plain": [
       "<Figure size 1008x576 with 1 Axes>"
      ]
     },
     "metadata": {
      "needs_background": "light"
     },
     "output_type": "display_data"
    }
   ],
   "source": [
    "## Plot the playoff probabilities by team\n",
    "\n",
    "ax = plt.figure(figsize=(14, 8))\n",
    "\n",
    "ax = plt.bar(x=xgb_proba.sort_values(by='Probability', ascending=False)['team'], height=xgb_proba['Probability'].\\\n",
    "        sort_values(ascending=False))\n",
    "\n",
    "ax[0].set_color('g')\n",
    "ax[1].set_color('g')\n",
    "ax[2].set_color('g')\n",
    "ax[3].set_color('g')\n",
    "ax[4].set_color('g')\n",
    "ax[5].set_color('g')\n",
    "ax[7].set_color('g')\n",
    "ax[8].set_color('g')\n",
    "ax[10].set_color('g')\n",
    "ax[11].set_color('g')\n",
    "\n",
    "plt.title('Playoff probability by team', fontweight='bold', fontsize=20)\n",
    "plt.ylabel('Probability', fontweight='bold', fontsize=12)\n",
    "plt.xlabel('Team', fontweight='bold', fontsize=12)\n",
    "\n",
    "plt.axvline(9.5, linestyle='dashed')\n",
    "plt.text(6.5, 0.9, s='Predicted')\n",
    "plt.text(10.5, 0.9, s='Not Predicted')\n",
    "plt.legend(labels=['Predictor Divider', 'Made 2018 Playoffs'])\n",
    "\n",
    "plt.xticks(rotation=45)\n",
    "\n",
    "plt.show()"
   ]
  },
  {
   "cell_type": "code",
   "execution_count": 61,
   "metadata": {},
   "outputs": [
    {
     "data": {
      "image/png": "[encoded data removed]",
      "text/plain": [
       "<Figure size 1440x576 with 1 Axes>"
      ]
     },
     "metadata": {
      "needs_background": "light"
     },
     "output_type": "display_data"
    }
   ],
   "source": [
    "## Plot the feature importances of the model\n",
    "\n",
    "plt.figure(figsize=(20, 8))\n",
    "sns.barplot(x=df_features.columns, y=gs_xgb.best_estimator_.feature_importances_)\n",
    "plt.title('Feature Importances of Tuned XGBoost Classifier', fontweight='bold', fontsize=20)\n",
    "plt.ylabel('Importance', fontweight='bold', fontsize=12)\n",
    "plt.xlabel('Feature', fontweight='bold', fontsize=12)\n",
    "\n",
    "plt.xticks(rotation=60, size=10)\n",
    "\n",
    "plt.show()"
   ]
  },
  {
   "cell_type": "code",
   "execution_count": 62,
   "metadata": {},
   "outputs": [
    {
     "name": "stdout",
     "output_type": "stream",
     "text": [
      "              precision    recall  f1-score   support\n",
      "\n",
      "           0       0.90      0.90      0.90        20\n",
      "           1       0.80      0.80      0.80        10\n",
      "\n",
      "   micro avg       0.87      0.87      0.87        30\n",
      "   macro avg       0.85      0.85      0.85        30\n",
      "weighted avg       0.87      0.87      0.87        30\n",
      "\n"
     ]
    }
   ],
   "source": [
    "print(classification_report(xgb_proba['target'], xgb_proba['top_preds']))"
   ]
  },
  {
   "cell_type": "markdown",
   "metadata": {},
   "source": [
    "# Plotting ROC AUC curves"
   ]
  },
  {
   "cell_type": "code",
   "execution_count": 63,
   "metadata": {},
   "outputs": [],
   "source": [
    "## Import the necessary functions\n",
    "\n",
    "from sklearn.metrics import roc_curve\n",
    "from sklearn.metrics import auc"
   ]
  },
  {
   "cell_type": "code",
   "execution_count": 64,
   "metadata": {},
   "outputs": [],
   "source": [
    "def plot_roc_auc_curve(model, model_text, probability = True, y_actual = y_test):\n",
    "    \n",
    "    \"\"\"\n",
    "    Obatins the true and false positive rates for a model and plots the ROC AUC curve.\n",
    "    \"\"\"\n",
    "    \n",
    "    if probability:\n",
    "        \n",
    "        scores = model.predict_proba(X_test)[:,1]\n",
    "        \n",
    "    else:\n",
    "        \n",
    "        scores = model.predict(X_test)\n",
    "        \n",
    "    fpr, tpr, thresholds = roc_curve(y_actual, scores)\n",
    "    \n",
    "    plt.figure(figsize=(12, 8))\n",
    "    plt.plot(fpr, tpr, label='ROC curve (area = %0.2f)' % auc(fpr, tpr), c='green')\n",
    "    plt.title('ROC AUC Curve for %s' %model_text, fontweight='bold', fontsize=18)\n",
    "    plt.ylabel('True Positive Rate')\n",
    "    plt.xlabel('False Positive Rate')\n",
    "    plt.legend(loc = 'lower right', prop ={'size':20})\n",
    "    \n",
    "    plt.plot([0, 1], [0, 1], color='navy', linestyle='--')\n",
    "    plt.xlim([0.0, 1.0])\n",
    "    plt.ylim([0.0, 1.05])\n",
    "    \n",
    "    plt.show()"
   ]
  },
  {
   "cell_type": "code",
   "execution_count": 71,
   "metadata": {},
   "outputs": [
    {
     "data": {
      "image/png": "[encoded data removed]",
      "text/plain": [
       "<Figure size 864x576 with 1 Axes>"
      ]
     },
     "metadata": {
      "needs_background": "light"
     },
     "output_type": "display_data"
    }
   ],
   "source": [
    "plot_roc_auc_curve(knc, 'KNeighbors Classifier')"
   ]
  },
  {
   "cell_type": "code",
   "execution_count": 66,
   "metadata": {},
   "outputs": [],
   "source": [
    "def fpr_tpr(model, probability = True, y_actual = y_test):\n",
    "    \n",
    "    \"\"\"\n",
    "    Returns the false positive rate, true positive rate, and area under the curve for a given model.\n",
    "    \"\"\"\n",
    "    \n",
    "    if probability:\n",
    "        \n",
    "        scores = model.predict_proba(X_test)[:,1]\n",
    "        \n",
    "    else:\n",
    "        \n",
    "        scores = model.predict(X_test)\n",
    "        \n",
    "    fpr, tpr, thresholds = roc_curve(y_actual, scores)\n",
    "    \n",
    "    auc_ = auc(fpr, tpr)\n",
    "    \n",
    "    return fpr, tpr, auc_"
   ]
  },
  {
   "cell_type": "code",
   "execution_count": 67,
   "metadata": {},
   "outputs": [],
   "source": [
    "fpr_lr, tpr_lr, auc_lr = fpr_tpr(gs_lr)\n",
    "fpr_rf, tpr_rf, auc_rf = fpr_tpr(gs_rf)\n",
    "fpr_knc, tpr_knc, auc_knc = fpr_tpr(gs_knc)\n",
    "fpr_svc, tpr_svc, auc_svc = fpr_tpr(gs_svc)\n",
    "fpr_xgb, tpr_xgb, auc_xgb = fpr_tpr(gs_xgb)"
   ]
  },
  {
   "cell_type": "code",
   "execution_count": 68,
   "metadata": {},
   "outputs": [
    {
     "data": {
      "image/png": "[encoded data removed]",
      "text/plain": [
       "<Figure size 1008x576 with 1 Axes>"
      ]
     },
     "metadata": {
      "needs_background": "light"
     },
     "output_type": "display_data"
    }
   ],
   "source": [
    "## Plot all the ROC AUC curves on the same plot\n",
    "\n",
    "plt.figure(figsize=(14, 8))\n",
    "plt.plot(fpr_lr, tpr_lr, label = 'Logistic Regression (area = %0.2f)' % auc(fpr_lr, tpr_lr), c = 'g', linestyle = '--')\n",
    "plt.plot(fpr_rf, tpr_rf, label = 'Random Forest (area = %0.2f)' % auc(fpr_rf, tpr_rf), c = 'b')\n",
    "plt.plot(fpr_knc, tpr_knc, label = 'KNeighbors (area = %0.2f)' % auc(fpr_knc, tpr_knc), c = 'r', linestyle = '--')\n",
    "plt.plot(fpr_svc, tpr_svc, label = 'SVC (area = %0.2f)' % auc(fpr_svc, tpr_svc), c = 'yellow')\n",
    "plt.plot(fpr_xgb, tpr_xgb, label = 'XGBoost (area = %0.2f)' % auc(fpr_xgb, tpr_xgb), c = 'gray', linestyle = '--')\n",
    "\n",
    "plt.title('ROC AUC Curve', fontweight='bold', fontsize=20)\n",
    "plt.ylabel('True Positive Rate')\n",
    "plt.xlabel('False Positive Rate')\n",
    "plt.legend(loc = 'lower right', prop ={'size':15})\n",
    "    \n",
    "plt.plot([0, 1], [0, 1], color='navy', linestyle='--', alpha=0.5)\n",
    "plt.xlim([0.0, 1.0])\n",
    "plt.ylim([0.0, 1.05])\n",
    "    \n",
    "plt.show()"
   ]
  },
  {
   "cell_type": "markdown",
   "metadata": {},
   "source": [
    "# Final Exploratory Analysis"
   ]
  },
  {
   "cell_type": "code",
   "execution_count": 69,
   "metadata": {},
   "outputs": [],
   "source": [
    "grpd_playoffs = df_all.groupby(by='playoffs')"
   ]
  },
  {
   "cell_type": "code",
   "execution_count": 70,
   "metadata": {},
   "outputs": [
    {
     "data": {
      "image/png": "[encoded data removed]",
      "text/plain": [
       "<Figure size 1440x720 with 1 Axes>"
      ]
     },
     "metadata": {
      "needs_background": "light"
     },
     "output_type": "display_data"
    }
   ],
   "source": [
    "playoff_pct_changes = grpd_playoffs.mean().pct_change().iloc[1,:]\n",
    "playoff_pct_changes.drop(['world_series'], axis=0, inplace=True)\n",
    "\n",
    "ax = plt.figure(figsize=(20, 10))\n",
    "ax = sns.barplot(x=playoff_pct_changes.index, y=playoff_pct_changes)\n",
    "\n",
    "plt.xticks(rotation=45)\n",
    "plt.ylabel('Percent change in statistic', fontweight='bold', fontsize=12)\n",
    "plt.xlabel('Statistic', fontweight='bold', fontsize=12)\n",
    "plt.title('Percentage change in statistic between playoff \\n and non-playoff teams', fontsize=20, fontweight='extra bold')\n",
    "plt.xticks(size=9)\n",
    "\n",
    "plt.show()"
   ]
  },
  {
   "cell_type": "code",
   "execution_count": null,
   "metadata": {},
   "outputs": [],
   "source": []
  }
 ],
 "metadata": {
  "kernelspec": {
   "display_name": "Python 3",
   "language": "python",
   "name": "python3"
  },
  "language_info": {
   "codemirror_mode": {
    "name": "ipython",
    "version": 3
   },
   "file_extension": ".py",
   "mimetype": "text/x-python",
   "name": "python",
   "nbconvert_exporter": "python",
   "pygments_lexer": "ipython3",
   "version": "3.6.6"
  }
 },
 "nbformat": 4,
 "nbformat_minor": 2
}
